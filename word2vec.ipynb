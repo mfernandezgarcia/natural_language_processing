{
 "cells": [
  {
   "cell_type": "code",
   "execution_count": 13,
   "metadata": {},
   "outputs": [],
   "source": [
    "# !pip install --upgrade gensim"
   ]
  },
  {
   "cell_type": "markdown",
   "metadata": {},
   "source": [
    "Para trabajar Word2Vec vamos a hacerlo a través de la librería de `gensim`."
   ]
  },
  {
   "cell_type": "code",
   "execution_count": 14,
   "metadata": {},
   "outputs": [],
   "source": [
    "from gensim.models import Word2Vec, FastText\n",
    "from gensim.test.utils import common_texts\n",
    "import pandas as pd"
   ]
  },
  {
   "cell_type": "markdown",
   "metadata": {},
   "source": [
    "El `corpus` que vamos a utilizar es commont_texts que es un corpus de prueba que viene con la librería."
   ]
  },
  {
   "cell_type": "code",
   "execution_count": 15,
   "metadata": {},
   "outputs": [
    {
     "data": {
      "text/plain": [
       "[['human', 'interface', 'computer'],\n",
       " ['survey', 'user', 'computer', 'system', 'response', 'time'],\n",
       " ['eps', 'user', 'interface', 'system'],\n",
       " ['system', 'human', 'system', 'eps'],\n",
       " ['user', 'response', 'time'],\n",
       " ['trees'],\n",
       " ['graph', 'trees'],\n",
       " ['graph', 'minors', 'trees'],\n",
       " ['graph', 'minors', 'survey']]"
      ]
     },
     "execution_count": 15,
     "metadata": {},
     "output_type": "execute_result"
    }
   ],
   "source": [
    "common_texts"
   ]
  },
  {
   "cell_type": "markdown",
   "metadata": {},
   "source": [
    "Vamos a crear el modelo. Le pasamos el corpus y pedimos que como mínimo la palabra debe aparecer 1 vez para tenerla en cuenta y que el vector tenga 5 dimensiones."
   ]
  },
  {
   "cell_type": "code",
   "execution_count": 16,
   "metadata": {},
   "outputs": [],
   "source": [
    "w2v = Word2Vec(common_texts,min_count=1,vector_size=5)\n"
   ]
  },
  {
   "cell_type": "markdown",
   "metadata": {},
   "source": [
    "Podemos ver que el vocabulario es 12, es decir tenemos 12 posibles palabras, no podemos utilizar una palabra que no esté en el vocabulario."
   ]
  },
  {
   "cell_type": "code",
   "execution_count": 17,
   "metadata": {},
   "outputs": [
    {
     "name": "stdout",
     "output_type": "stream",
     "text": [
      "Word2Vec<vocab=12, vector_size=5, alpha=0.025>\n"
     ]
    }
   ],
   "source": [
    "print(w2v)"
   ]
  },
  {
   "cell_type": "markdown",
   "metadata": {},
   "source": [
    "Si intentamos acceder a una palabra que no está en el vocabulario nos dará un error."
   ]
  },
  {
   "cell_type": "code",
   "execution_count": 18,
   "metadata": {},
   "outputs": [
    {
     "name": "stdout",
     "output_type": "stream",
     "text": [
      "word not found\n"
     ]
    }
   ],
   "source": [
    "try:\n",
    "    w2v.wv[['movie']]\n",
    "except KeyError:\n",
    "    print('word not found')"
   ]
  },
  {
   "cell_type": "markdown",
   "metadata": {},
   "source": [
    "Podemos devolver la codificación de una palabra que pertenezca al vocabulario."
   ]
  },
  {
   "cell_type": "code",
   "execution_count": 19,
   "metadata": {},
   "outputs": [
    {
     "name": "stdout",
     "output_type": "stream",
     "text": [
      "[[-0.08924355  0.09035001 -0.13573924 -0.07096978  0.18797016]]\n"
     ]
    }
   ],
   "source": [
    "try:\n",
    "    print(w2v.wv[['human']])\n",
    "except KeyError:\n",
    "    print('word not found')"
   ]
  },
  {
   "cell_type": "markdown",
   "metadata": {},
   "source": [
    "Vamos a buscar las 5 palabras más similares a `computer` junto al grado de similitud."
   ]
  },
  {
   "cell_type": "code",
   "execution_count": 20,
   "metadata": {},
   "outputs": [
    {
     "data": {
      "text/plain": [
       "[('minors', 0.4151745140552521),\n",
       " ('time', 0.18495497107505798),\n",
       " ('interface', 0.05030104145407677),\n",
       " ('system', 0.028436651453375816),\n",
       " ('eps', -0.05752073973417282)]"
      ]
     },
     "execution_count": 20,
     "metadata": {},
     "output_type": "execute_result"
    }
   ],
   "source": [
    "w2v.wv.most_similar('computer', topn=5)\n"
   ]
  },
  {
   "cell_type": "markdown",
   "metadata": {},
   "source": [
    "Ahora para `user`."
   ]
  },
  {
   "cell_type": "code",
   "execution_count": 21,
   "metadata": {},
   "outputs": [
    {
     "data": {
      "text/plain": [
       "[('eps', 0.7670227289199829),\n",
       " ('graph', 0.6180020570755005),\n",
       " ('time', 0.5487501621246338),\n",
       " ('response', 0.44477587938308716),\n",
       " ('survey', 0.31393176317214966)]"
      ]
     },
     "execution_count": 21,
     "metadata": {},
     "output_type": "execute_result"
    }
   ],
   "source": [
    "w2v.wv.most_similar('user', topn=5)\n"
   ]
  },
  {
   "cell_type": "markdown",
   "metadata": {},
   "source": [
    "¿Cómo ha codificado cada palabra?"
   ]
  },
  {
   "cell_type": "code",
   "execution_count": 22,
   "metadata": {},
   "outputs": [],
   "source": [
    "vocab = list(w2v.wv.index_to_key)\n",
    "vectors = [w2v.wv[word] for word in vocab]"
   ]
  },
  {
   "cell_type": "code",
   "execution_count": 23,
   "metadata": {},
   "outputs": [
    {
     "name": "stdout",
     "output_type": "stream",
     "text": [
      "      Palabra                             Codificación Vectorial\n",
      "0      system  [-0.0107245445, 0.004728603, 0.10206699, 0.180...\n",
      "1       graph  [-0.14233617, 0.12917742, 0.17945977, -0.10030...\n",
      "2       trees  [0.1476101, -0.03066945, -0.09073229, 0.131081...\n",
      "3        user  [-0.036343347, 0.057506733, 0.019880833, -0.16...\n",
      "4      minors  [0.14623532, 0.10140524, 0.13515386, 0.0152573...\n",
      "5         eps  [-0.06810732, -0.018928051, 0.115371466, -0.15...\n",
      "6        time  [-0.15023164, -0.018600846, 0.19076237, -0.146...\n",
      "7    response  [-0.0387697, 0.16154389, -0.11860459, 0.000906...\n",
      "8      survey  [-0.192071, 0.10014586, -0.17519173, -0.087836...\n",
      "9    computer  [-0.005925377, -0.1532694, 0.1923508, 0.099670...\n",
      "10  interface  [-0.16316712, 0.08989341, -0.08270347, 0.01649...\n",
      "11      human  [-0.08924355, 0.09035001, -0.13573924, -0.0709...\n"
     ]
    }
   ],
   "source": [
    "data = {'Palabra': vocab,\n",
    "        'Codificación Vectorial': vectors}\n",
    "\n",
    "df = pd.DataFrame(data)\n",
    "print(df)"
   ]
  },
  {
   "cell_type": "markdown",
   "metadata": {},
   "source": [
    "Vamos a ver en un espacio bi-dimensional cómo se han codificado las palabras."
   ]
  },
  {
   "cell_type": "code",
   "execution_count": 24,
   "metadata": {},
   "outputs": [
    {
     "data": {
      "image/png": "[encoded data removed]",
      "text/plain": [
       "<Figure size 640x480 with 1 Axes>"
      ]
     },
     "metadata": {},
     "output_type": "display_data"
    }
   ],
   "source": [
    "from sklearn.decomposition import PCA\n",
    "from matplotlib import pyplot as plt\n",
    "\n",
    "X = vectors\n",
    "pca = PCA(n_components=2)\n",
    "\n",
    "result = pca.fit_transform(X)\n",
    "\n",
    "plt.scatter(result[:, 0], result[:, 1])\n",
    "words = list(df['Palabra'])\n",
    "\n",
    "for i, word in enumerate(words):\n",
    "   plt.annotate(word, xy=(result[i, 0], result[i, 1]))\n",
    "\n",
    "plt.show()"
   ]
  }
 ],
 "metadata": {
  "kernelspec": {
   "display_name": "base",
   "language": "python",
   "name": "python3"
  },
  "language_info": {
   "codemirror_mode": {
    "name": "ipython",
    "version": 3
   },
   "file_extension": ".py",
   "mimetype": "text/x-python",
   "name": "python",
   "nbconvert_exporter": "python",
   "pygments_lexer": "ipython3",
   "version": "3.8.2"
  }
 },
 "nbformat": 4,
 "nbformat_minor": 2
}
